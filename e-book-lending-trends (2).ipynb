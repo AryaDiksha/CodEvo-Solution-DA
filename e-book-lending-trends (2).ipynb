{
 "cells": [
  {
   "cell_type": "code",
   "execution_count": 1,
   "id": "ab2ae42e",
   "metadata": {
    "_cell_guid": "b1076dfc-b9ad-4769-8c92-a6c4dae69d19",
    "_uuid": "8f2839f25d086af736a60e9eeb907d3b93b6e0e5",
    "execution": {
     "iopub.execute_input": "2024-07-14T05:02:41.237241Z",
     "iopub.status.busy": "2024-07-14T05:02:41.236769Z",
     "iopub.status.idle": "2024-07-14T05:02:42.284021Z",
     "shell.execute_reply": "2024-07-14T05:02:42.282610Z"
    },
    "papermill": {
     "duration": 1.065281,
     "end_time": "2024-07-14T05:02:42.287074",
     "exception": false,
     "start_time": "2024-07-14T05:02:41.221793",
     "status": "completed"
    },
    "tags": []
   },
   "outputs": [
    {
     "name": "stdout",
     "output_type": "stream",
     "text": [
      "/kaggle/input/books-dataset/books_data/ratings.csv\n",
      "/kaggle/input/books-dataset/books_data/users.csv\n",
      "/kaggle/input/books-dataset/books_data/books.csv\n"
     ]
    }
   ],
   "source": [
    "# This Python 3 environment comes with many helpful analytics libraries installed\n",
    "# It is defined by the kaggle/python Docker image: https://github.com/kaggle/docker-python\n",
    "# For example, here's several helpful packages to load\n",
    "\n",
    "import numpy as np # linear algebra\n",
    "import pandas as pd # data processing, CSV file I/O (e.g. pd.read_csv)\n",
    "\n",
    "# Input data files are available in the read-only \"../input/\" directory\n",
    "# For example, running this (by clicking run or pressing Shift+Enter) will list all files under the input directory\n",
    "\n",
    "import os\n",
    "for dirname, _, filenames in os.walk('/kaggle/input'):\n",
    "    for filename in filenames:\n",
    "        print(os.path.join(dirname, filename))\n",
    "\n",
    "# You can write up to 20GB to the current directory (/kaggle/working/) that gets preserved as output when you create a version using \"Save & Run All\" \n",
    "# You can also write temporary files to /kaggle/temp/, but they won't be saved outside of the current session"
   ]
  },
  {
   "cell_type": "code",
   "execution_count": 2,
   "id": "fcbaf769",
   "metadata": {
    "execution": {
     "iopub.execute_input": "2024-07-14T05:02:42.315426Z",
     "iopub.status.busy": "2024-07-14T05:02:42.314744Z",
     "iopub.status.idle": "2024-07-14T05:02:42.321061Z",
     "shell.execute_reply": "2024-07-14T05:02:42.319918Z"
    },
    "papermill": {
     "duration": 0.023623,
     "end_time": "2024-07-14T05:02:42.323849",
     "exception": false,
     "start_time": "2024-07-14T05:02:42.300226",
     "status": "completed"
    },
    "tags": []
   },
   "outputs": [],
   "source": [
    "# Load the library\n",
    "import pandas as pd\n",
    "import numpy as np \n",
    "import matplotlib.pyplot as plt"
   ]
  },
  {
   "cell_type": "code",
   "execution_count": 3,
   "id": "83639b71",
   "metadata": {
    "execution": {
     "iopub.execute_input": "2024-07-14T05:02:42.357119Z",
     "iopub.status.busy": "2024-07-14T05:02:42.356577Z",
     "iopub.status.idle": "2024-07-14T05:02:42.365545Z",
     "shell.execute_reply": "2024-07-14T05:02:42.364250Z"
    },
    "papermill": {
     "duration": 0.02701,
     "end_time": "2024-07-14T05:02:42.368477",
     "exception": false,
     "start_time": "2024-07-14T05:02:42.341467",
     "status": "completed"
    },
    "tags": []
   },
   "outputs": [
    {
     "name": "stdout",
     "output_type": "stream",
     "text": [
      "/kaggle/input/books-dataset/books_data/ratings.csv\n",
      "/kaggle/input/books-dataset/books_data/users.csv\n",
      "/kaggle/input/books-dataset/books_data/books.csv\n"
     ]
    }
   ],
   "source": [
    "import os\n",
    "for dirname, _, filenames in os.walk('/kaggle/input'):\n",
    "    for filename in filenames:\n",
    "        print(os.path.join(dirname, filename))"
   ]
  },
  {
   "cell_type": "code",
   "execution_count": 4,
   "id": "70f43eab",
   "metadata": {
    "execution": {
     "iopub.execute_input": "2024-07-14T05:02:42.405712Z",
     "iopub.status.busy": "2024-07-14T05:02:42.405171Z",
     "iopub.status.idle": "2024-07-14T05:02:47.318646Z",
     "shell.execute_reply": "2024-07-14T05:02:47.317417Z"
    },
    "papermill": {
     "duration": 4.934374,
     "end_time": "2024-07-14T05:02:47.321509",
     "exception": false,
     "start_time": "2024-07-14T05:02:42.387135",
     "status": "completed"
    },
    "tags": []
   },
   "outputs": [],
   "source": [
    "#Load the dataset\n",
    "Books_df = pd.read_csv('/kaggle/input/books-dataset/books_data/books.csv', sep =';', encoding='latin1', on_bad_lines='skip', low_memory = False)\n",
    "Users_df = pd.read_csv('/kaggle/input/books-dataset/books_data/users.csv', sep =';', encoding='latin1', on_bad_lines='skip', low_memory = False)\n",
    "Ratings_df = pd.read_csv('/kaggle/input/books-dataset/books_data/ratings.csv', sep =';', encoding='latin1', on_bad_lines='skip', low_memory = False)"
   ]
  },
  {
   "cell_type": "code",
   "execution_count": 5,
   "id": "e3c55fd8",
   "metadata": {
    "execution": {
     "iopub.execute_input": "2024-07-14T05:02:47.350585Z",
     "iopub.status.busy": "2024-07-14T05:02:47.350170Z",
     "iopub.status.idle": "2024-07-14T05:02:47.374944Z",
     "shell.execute_reply": "2024-07-14T05:02:47.373701Z"
    },
    "papermill": {
     "duration": 0.042656,
     "end_time": "2024-07-14T05:02:47.377527",
     "exception": false,
     "start_time": "2024-07-14T05:02:47.334871",
     "status": "completed"
    },
    "tags": []
   },
   "outputs": [
    {
     "data": {
      "text/html": [
       "<div>\n",
       "<style scoped>\n",
       "    .dataframe tbody tr th:only-of-type {\n",
       "        vertical-align: middle;\n",
       "    }\n",
       "\n",
       "    .dataframe tbody tr th {\n",
       "        vertical-align: top;\n",
       "    }\n",
       "\n",
       "    .dataframe thead th {\n",
       "        text-align: right;\n",
       "    }\n",
       "</style>\n",
       "<table border=\"1\" class=\"dataframe\">\n",
       "  <thead>\n",
       "    <tr style=\"text-align: right;\">\n",
       "      <th></th>\n",
       "      <th>ISBN</th>\n",
       "      <th>Book-Title</th>\n",
       "      <th>Book-Author</th>\n",
       "      <th>Year-Of-Publication</th>\n",
       "      <th>Publisher</th>\n",
       "      <th>Image-URL-S</th>\n",
       "      <th>Image-URL-M</th>\n",
       "      <th>Image-URL-L</th>\n",
       "    </tr>\n",
       "  </thead>\n",
       "  <tbody>\n",
       "    <tr>\n",
       "      <th>0</th>\n",
       "      <td>0195153448</td>\n",
       "      <td>Classical Mythology</td>\n",
       "      <td>Mark P. O. Morford</td>\n",
       "      <td>2002</td>\n",
       "      <td>Oxford University Press</td>\n",
       "      <td>http://images.amazon.com/images/P/0195153448.0...</td>\n",
       "      <td>http://images.amazon.com/images/P/0195153448.0...</td>\n",
       "      <td>http://images.amazon.com/images/P/0195153448.0...</td>\n",
       "    </tr>\n",
       "    <tr>\n",
       "      <th>1</th>\n",
       "      <td>0002005018</td>\n",
       "      <td>Clara Callan</td>\n",
       "      <td>Richard Bruce Wright</td>\n",
       "      <td>2001</td>\n",
       "      <td>HarperFlamingo Canada</td>\n",
       "      <td>http://images.amazon.com/images/P/0002005018.0...</td>\n",
       "      <td>http://images.amazon.com/images/P/0002005018.0...</td>\n",
       "      <td>http://images.amazon.com/images/P/0002005018.0...</td>\n",
       "    </tr>\n",
       "    <tr>\n",
       "      <th>2</th>\n",
       "      <td>0060973129</td>\n",
       "      <td>Decision in Normandy</td>\n",
       "      <td>Carlo D'Este</td>\n",
       "      <td>1991</td>\n",
       "      <td>HarperPerennial</td>\n",
       "      <td>http://images.amazon.com/images/P/0060973129.0...</td>\n",
       "      <td>http://images.amazon.com/images/P/0060973129.0...</td>\n",
       "      <td>http://images.amazon.com/images/P/0060973129.0...</td>\n",
       "    </tr>\n",
       "    <tr>\n",
       "      <th>3</th>\n",
       "      <td>0374157065</td>\n",
       "      <td>Flu: The Story of the Great Influenza Pandemic...</td>\n",
       "      <td>Gina Bari Kolata</td>\n",
       "      <td>1999</td>\n",
       "      <td>Farrar Straus Giroux</td>\n",
       "      <td>http://images.amazon.com/images/P/0374157065.0...</td>\n",
       "      <td>http://images.amazon.com/images/P/0374157065.0...</td>\n",
       "      <td>http://images.amazon.com/images/P/0374157065.0...</td>\n",
       "    </tr>\n",
       "    <tr>\n",
       "      <th>4</th>\n",
       "      <td>0393045218</td>\n",
       "      <td>The Mummies of Urumchi</td>\n",
       "      <td>E. J. W. Barber</td>\n",
       "      <td>1999</td>\n",
       "      <td>W. W. Norton &amp;amp; Company</td>\n",
       "      <td>http://images.amazon.com/images/P/0393045218.0...</td>\n",
       "      <td>http://images.amazon.com/images/P/0393045218.0...</td>\n",
       "      <td>http://images.amazon.com/images/P/0393045218.0...</td>\n",
       "    </tr>\n",
       "  </tbody>\n",
       "</table>\n",
       "</div>"
      ],
      "text/plain": [
       "         ISBN                                         Book-Title  \\\n",
       "0  0195153448                                Classical Mythology   \n",
       "1  0002005018                                       Clara Callan   \n",
       "2  0060973129                               Decision in Normandy   \n",
       "3  0374157065  Flu: The Story of the Great Influenza Pandemic...   \n",
       "4  0393045218                             The Mummies of Urumchi   \n",
       "\n",
       "            Book-Author Year-Of-Publication                   Publisher  \\\n",
       "0    Mark P. O. Morford                2002     Oxford University Press   \n",
       "1  Richard Bruce Wright                2001       HarperFlamingo Canada   \n",
       "2          Carlo D'Este                1991             HarperPerennial   \n",
       "3      Gina Bari Kolata                1999        Farrar Straus Giroux   \n",
       "4       E. J. W. Barber                1999  W. W. Norton &amp; Company   \n",
       "\n",
       "                                         Image-URL-S  \\\n",
       "0  http://images.amazon.com/images/P/0195153448.0...   \n",
       "1  http://images.amazon.com/images/P/0002005018.0...   \n",
       "2  http://images.amazon.com/images/P/0060973129.0...   \n",
       "3  http://images.amazon.com/images/P/0374157065.0...   \n",
       "4  http://images.amazon.com/images/P/0393045218.0...   \n",
       "\n",
       "                                         Image-URL-M  \\\n",
       "0  http://images.amazon.com/images/P/0195153448.0...   \n",
       "1  http://images.amazon.com/images/P/0002005018.0...   \n",
       "2  http://images.amazon.com/images/P/0060973129.0...   \n",
       "3  http://images.amazon.com/images/P/0374157065.0...   \n",
       "4  http://images.amazon.com/images/P/0393045218.0...   \n",
       "\n",
       "                                         Image-URL-L  \n",
       "0  http://images.amazon.com/images/P/0195153448.0...  \n",
       "1  http://images.amazon.com/images/P/0002005018.0...  \n",
       "2  http://images.amazon.com/images/P/0060973129.0...  \n",
       "3  http://images.amazon.com/images/P/0374157065.0...  \n",
       "4  http://images.amazon.com/images/P/0393045218.0...  "
      ]
     },
     "execution_count": 5,
     "metadata": {},
     "output_type": "execute_result"
    }
   ],
   "source": [
    "Books_df.head()"
   ]
  },
  {
   "cell_type": "code",
   "execution_count": 6,
   "id": "136ab850",
   "metadata": {
    "execution": {
     "iopub.execute_input": "2024-07-14T05:02:47.406816Z",
     "iopub.status.busy": "2024-07-14T05:02:47.405780Z",
     "iopub.status.idle": "2024-07-14T05:02:47.433266Z",
     "shell.execute_reply": "2024-07-14T05:02:47.431932Z"
    },
    "papermill": {
     "duration": 0.045331,
     "end_time": "2024-07-14T05:02:47.436223",
     "exception": false,
     "start_time": "2024-07-14T05:02:47.390892",
     "status": "completed"
    },
    "tags": []
   },
   "outputs": [],
   "source": [
    "#Drop these columns\n",
    "Books_df.drop(['Image-URL-S', 'Image-URL-M', 'Image-URL-L'],axis=1,inplace=True)"
   ]
  },
  {
   "cell_type": "code",
   "execution_count": 7,
   "id": "67b4ca9b",
   "metadata": {
    "execution": {
     "iopub.execute_input": "2024-07-14T05:02:47.465144Z",
     "iopub.status.busy": "2024-07-14T05:02:47.464746Z",
     "iopub.status.idle": "2024-07-14T05:02:47.478851Z",
     "shell.execute_reply": "2024-07-14T05:02:47.477692Z"
    },
    "papermill": {
     "duration": 0.031914,
     "end_time": "2024-07-14T05:02:47.481456",
     "exception": false,
     "start_time": "2024-07-14T05:02:47.449542",
     "status": "completed"
    },
    "tags": []
   },
   "outputs": [
    {
     "data": {
      "text/html": [
       "<div>\n",
       "<style scoped>\n",
       "    .dataframe tbody tr th:only-of-type {\n",
       "        vertical-align: middle;\n",
       "    }\n",
       "\n",
       "    .dataframe tbody tr th {\n",
       "        vertical-align: top;\n",
       "    }\n",
       "\n",
       "    .dataframe thead th {\n",
       "        text-align: right;\n",
       "    }\n",
       "</style>\n",
       "<table border=\"1\" class=\"dataframe\">\n",
       "  <thead>\n",
       "    <tr style=\"text-align: right;\">\n",
       "      <th></th>\n",
       "      <th>ISBN</th>\n",
       "      <th>Book-Title</th>\n",
       "      <th>Book-Author</th>\n",
       "      <th>Year-Of-Publication</th>\n",
       "      <th>Publisher</th>\n",
       "    </tr>\n",
       "  </thead>\n",
       "  <tbody>\n",
       "    <tr>\n",
       "      <th>0</th>\n",
       "      <td>0195153448</td>\n",
       "      <td>Classical Mythology</td>\n",
       "      <td>Mark P. O. Morford</td>\n",
       "      <td>2002</td>\n",
       "      <td>Oxford University Press</td>\n",
       "    </tr>\n",
       "    <tr>\n",
       "      <th>1</th>\n",
       "      <td>0002005018</td>\n",
       "      <td>Clara Callan</td>\n",
       "      <td>Richard Bruce Wright</td>\n",
       "      <td>2001</td>\n",
       "      <td>HarperFlamingo Canada</td>\n",
       "    </tr>\n",
       "    <tr>\n",
       "      <th>2</th>\n",
       "      <td>0060973129</td>\n",
       "      <td>Decision in Normandy</td>\n",
       "      <td>Carlo D'Este</td>\n",
       "      <td>1991</td>\n",
       "      <td>HarperPerennial</td>\n",
       "    </tr>\n",
       "    <tr>\n",
       "      <th>3</th>\n",
       "      <td>0374157065</td>\n",
       "      <td>Flu: The Story of the Great Influenza Pandemic...</td>\n",
       "      <td>Gina Bari Kolata</td>\n",
       "      <td>1999</td>\n",
       "      <td>Farrar Straus Giroux</td>\n",
       "    </tr>\n",
       "    <tr>\n",
       "      <th>4</th>\n",
       "      <td>0393045218</td>\n",
       "      <td>The Mummies of Urumchi</td>\n",
       "      <td>E. J. W. Barber</td>\n",
       "      <td>1999</td>\n",
       "      <td>W. W. Norton &amp;amp; Company</td>\n",
       "    </tr>\n",
       "  </tbody>\n",
       "</table>\n",
       "</div>"
      ],
      "text/plain": [
       "         ISBN                                         Book-Title  \\\n",
       "0  0195153448                                Classical Mythology   \n",
       "1  0002005018                                       Clara Callan   \n",
       "2  0060973129                               Decision in Normandy   \n",
       "3  0374157065  Flu: The Story of the Great Influenza Pandemic...   \n",
       "4  0393045218                             The Mummies of Urumchi   \n",
       "\n",
       "            Book-Author Year-Of-Publication                   Publisher  \n",
       "0    Mark P. O. Morford                2002     Oxford University Press  \n",
       "1  Richard Bruce Wright                2001       HarperFlamingo Canada  \n",
       "2          Carlo D'Este                1991             HarperPerennial  \n",
       "3      Gina Bari Kolata                1999        Farrar Straus Giroux  \n",
       "4       E. J. W. Barber                1999  W. W. Norton &amp; Company  "
      ]
     },
     "execution_count": 7,
     "metadata": {},
     "output_type": "execute_result"
    }
   ],
   "source": [
    "# Display the first 5 rows\n",
    "Books_df.head(5)"
   ]
  },
  {
   "cell_type": "code",
   "execution_count": 8,
   "id": "4d9e24c5",
   "metadata": {
    "execution": {
     "iopub.execute_input": "2024-07-14T05:02:47.510600Z",
     "iopub.status.busy": "2024-07-14T05:02:47.510189Z",
     "iopub.status.idle": "2024-07-14T05:02:47.525602Z",
     "shell.execute_reply": "2024-07-14T05:02:47.524367Z"
    },
    "papermill": {
     "duration": 0.033261,
     "end_time": "2024-07-14T05:02:47.528336",
     "exception": false,
     "start_time": "2024-07-14T05:02:47.495075",
     "status": "completed"
    },
    "tags": []
   },
   "outputs": [
    {
     "data": {
      "text/html": [
       "<div>\n",
       "<style scoped>\n",
       "    .dataframe tbody tr th:only-of-type {\n",
       "        vertical-align: middle;\n",
       "    }\n",
       "\n",
       "    .dataframe tbody tr th {\n",
       "        vertical-align: top;\n",
       "    }\n",
       "\n",
       "    .dataframe thead th {\n",
       "        text-align: right;\n",
       "    }\n",
       "</style>\n",
       "<table border=\"1\" class=\"dataframe\">\n",
       "  <thead>\n",
       "    <tr style=\"text-align: right;\">\n",
       "      <th></th>\n",
       "      <th>User-ID</th>\n",
       "      <th>Location</th>\n",
       "      <th>Age</th>\n",
       "    </tr>\n",
       "  </thead>\n",
       "  <tbody>\n",
       "    <tr>\n",
       "      <th>0</th>\n",
       "      <td>1</td>\n",
       "      <td>nyc, new york, usa</td>\n",
       "      <td>NaN</td>\n",
       "    </tr>\n",
       "    <tr>\n",
       "      <th>1</th>\n",
       "      <td>2</td>\n",
       "      <td>stockton, california, usa</td>\n",
       "      <td>18.0</td>\n",
       "    </tr>\n",
       "    <tr>\n",
       "      <th>2</th>\n",
       "      <td>3</td>\n",
       "      <td>moscow, yukon territory, russia</td>\n",
       "      <td>NaN</td>\n",
       "    </tr>\n",
       "    <tr>\n",
       "      <th>3</th>\n",
       "      <td>4</td>\n",
       "      <td>porto, v.n.gaia, portugal</td>\n",
       "      <td>17.0</td>\n",
       "    </tr>\n",
       "    <tr>\n",
       "      <th>4</th>\n",
       "      <td>5</td>\n",
       "      <td>farnborough, hants, united kingdom</td>\n",
       "      <td>NaN</td>\n",
       "    </tr>\n",
       "  </tbody>\n",
       "</table>\n",
       "</div>"
      ],
      "text/plain": [
       "   User-ID                            Location   Age\n",
       "0        1                  nyc, new york, usa   NaN\n",
       "1        2           stockton, california, usa  18.0\n",
       "2        3     moscow, yukon territory, russia   NaN\n",
       "3        4           porto, v.n.gaia, portugal  17.0\n",
       "4        5  farnborough, hants, united kingdom   NaN"
      ]
     },
     "execution_count": 8,
     "metadata": {},
     "output_type": "execute_result"
    }
   ],
   "source": [
    "Users_df.head(5)"
   ]
  },
  {
   "cell_type": "code",
   "execution_count": 9,
   "id": "a131f347",
   "metadata": {
    "execution": {
     "iopub.execute_input": "2024-07-14T05:02:47.558392Z",
     "iopub.status.busy": "2024-07-14T05:02:47.557997Z",
     "iopub.status.idle": "2024-07-14T05:02:47.569812Z",
     "shell.execute_reply": "2024-07-14T05:02:47.568652Z"
    },
    "papermill": {
     "duration": 0.029642,
     "end_time": "2024-07-14T05:02:47.572478",
     "exception": false,
     "start_time": "2024-07-14T05:02:47.542836",
     "status": "completed"
    },
    "tags": []
   },
   "outputs": [
    {
     "data": {
      "text/html": [
       "<div>\n",
       "<style scoped>\n",
       "    .dataframe tbody tr th:only-of-type {\n",
       "        vertical-align: middle;\n",
       "    }\n",
       "\n",
       "    .dataframe tbody tr th {\n",
       "        vertical-align: top;\n",
       "    }\n",
       "\n",
       "    .dataframe thead th {\n",
       "        text-align: right;\n",
       "    }\n",
       "</style>\n",
       "<table border=\"1\" class=\"dataframe\">\n",
       "  <thead>\n",
       "    <tr style=\"text-align: right;\">\n",
       "      <th></th>\n",
       "      <th>User-ID</th>\n",
       "      <th>ISBN</th>\n",
       "      <th>Book-Rating</th>\n",
       "    </tr>\n",
       "  </thead>\n",
       "  <tbody>\n",
       "    <tr>\n",
       "      <th>0</th>\n",
       "      <td>276725</td>\n",
       "      <td>034545104X</td>\n",
       "      <td>0</td>\n",
       "    </tr>\n",
       "    <tr>\n",
       "      <th>1</th>\n",
       "      <td>276726</td>\n",
       "      <td>0155061224</td>\n",
       "      <td>5</td>\n",
       "    </tr>\n",
       "    <tr>\n",
       "      <th>2</th>\n",
       "      <td>276727</td>\n",
       "      <td>0446520802</td>\n",
       "      <td>0</td>\n",
       "    </tr>\n",
       "    <tr>\n",
       "      <th>3</th>\n",
       "      <td>276729</td>\n",
       "      <td>052165615X</td>\n",
       "      <td>3</td>\n",
       "    </tr>\n",
       "    <tr>\n",
       "      <th>4</th>\n",
       "      <td>276729</td>\n",
       "      <td>0521795028</td>\n",
       "      <td>6</td>\n",
       "    </tr>\n",
       "  </tbody>\n",
       "</table>\n",
       "</div>"
      ],
      "text/plain": [
       "   User-ID        ISBN  Book-Rating\n",
       "0   276725  034545104X            0\n",
       "1   276726  0155061224            5\n",
       "2   276727  0446520802            0\n",
       "3   276729  052165615X            3\n",
       "4   276729  0521795028            6"
      ]
     },
     "execution_count": 9,
     "metadata": {},
     "output_type": "execute_result"
    }
   ],
   "source": [
    "Ratings_df.head(5)"
   ]
  },
  {
   "cell_type": "code",
   "execution_count": 10,
   "id": "e5bae57a",
   "metadata": {
    "execution": {
     "iopub.execute_input": "2024-07-14T05:02:47.603225Z",
     "iopub.status.busy": "2024-07-14T05:02:47.602819Z",
     "iopub.status.idle": "2024-07-14T05:02:47.777005Z",
     "shell.execute_reply": "2024-07-14T05:02:47.775559Z"
    },
    "papermill": {
     "duration": 0.193154,
     "end_time": "2024-07-14T05:02:47.780009",
     "exception": false,
     "start_time": "2024-07-14T05:02:47.586855",
     "status": "completed"
    },
    "tags": []
   },
   "outputs": [
    {
     "name": "stdout",
     "output_type": "stream",
     "text": [
      "<class 'pandas.core.frame.DataFrame'>\n",
      "RangeIndex: 271360 entries, 0 to 271359\n",
      "Data columns (total 5 columns):\n",
      " #   Column               Non-Null Count   Dtype \n",
      "---  ------               --------------   ----- \n",
      " 0   ISBN                 271360 non-null  object\n",
      " 1   Book-Title           271360 non-null  object\n",
      " 2   Book-Author          271358 non-null  object\n",
      " 3   Year-Of-Publication  271360 non-null  object\n",
      " 4   Publisher            271358 non-null  object\n",
      "dtypes: object(5)\n",
      "memory usage: 10.4+ MB\n"
     ]
    }
   ],
   "source": [
    "Books_df.info()"
   ]
  },
  {
   "cell_type": "markdown",
   "id": "95d7e9a9",
   "metadata": {
    "papermill": {
     "duration": 0.014151,
     "end_time": "2024-07-14T05:02:47.808476",
     "exception": false,
     "start_time": "2024-07-14T05:02:47.794325",
     "status": "completed"
    },
    "tags": []
   },
   "source": [
    "Data Cleaning and Preparation"
   ]
  },
  {
   "cell_type": "code",
   "execution_count": 11,
   "id": "e01d255b",
   "metadata": {
    "execution": {
     "iopub.execute_input": "2024-07-14T05:02:47.838646Z",
     "iopub.status.busy": "2024-07-14T05:02:47.838215Z",
     "iopub.status.idle": "2024-07-14T05:02:47.895474Z",
     "shell.execute_reply": "2024-07-14T05:02:47.894281Z"
    },
    "papermill": {
     "duration": 0.075558,
     "end_time": "2024-07-14T05:02:47.898384",
     "exception": false,
     "start_time": "2024-07-14T05:02:47.822826",
     "status": "completed"
    },
    "tags": []
   },
   "outputs": [],
   "source": [
    "# Handle missing values in Book-Author column\n",
    "Books_df.loc[:, 'Book-Author'] = Books_df['Book-Author'].fillna('Unknown')"
   ]
  },
  {
   "cell_type": "code",
   "execution_count": 12,
   "id": "341d646a",
   "metadata": {
    "execution": {
     "iopub.execute_input": "2024-07-14T05:02:47.928561Z",
     "iopub.status.busy": "2024-07-14T05:02:47.928131Z",
     "iopub.status.idle": "2024-07-14T05:02:48.630189Z",
     "shell.execute_reply": "2024-07-14T05:02:48.629024Z"
    },
    "papermill": {
     "duration": 0.720538,
     "end_time": "2024-07-14T05:02:48.633252",
     "exception": false,
     "start_time": "2024-07-14T05:02:47.912714",
     "status": "completed"
    },
    "tags": []
   },
   "outputs": [],
   "source": [
    "# Extract genre information from Book-Title column\n",
    "import re\n",
    "Books_df['Genre'] = Books_df['Book-Title'].apply(lambda x: re.search(r'\\((.*?)\\)', x).group(1) if re.search(r'\\((.*?)\\)', x) else 'Unknown')"
   ]
  },
  {
   "cell_type": "code",
   "execution_count": 13,
   "id": "62221100",
   "metadata": {
    "execution": {
     "iopub.execute_input": "2024-07-14T05:02:48.663304Z",
     "iopub.status.busy": "2024-07-14T05:02:48.662878Z",
     "iopub.status.idle": "2024-07-14T05:02:48.761179Z",
     "shell.execute_reply": "2024-07-14T05:02:48.760119Z"
    },
    "papermill": {
     "duration": 0.116867,
     "end_time": "2024-07-14T05:02:48.764212",
     "exception": false,
     "start_time": "2024-07-14T05:02:48.647345",
     "status": "completed"
    },
    "tags": []
   },
   "outputs": [],
   "source": [
    "# Drop rows with missing values in Year-Of-Publication column\n",
    "Books_df.dropna(subset=['Year-Of-Publication'], inplace=True)"
   ]
  },
  {
   "cell_type": "code",
   "execution_count": 14,
   "id": "5579088e",
   "metadata": {
    "execution": {
     "iopub.execute_input": "2024-07-14T05:02:48.794019Z",
     "iopub.status.busy": "2024-07-14T05:02:48.793580Z",
     "iopub.status.idle": "2024-07-14T05:02:48.844709Z",
     "shell.execute_reply": "2024-07-14T05:02:48.843500Z"
    },
    "papermill": {
     "duration": 0.069481,
     "end_time": "2024-07-14T05:02:48.847680",
     "exception": false,
     "start_time": "2024-07-14T05:02:48.778199",
     "status": "completed"
    },
    "tags": []
   },
   "outputs": [],
   "source": [
    "# Convert Year-Of-Publication column to datetime format\n",
    "Books_df['Year-Of-Publication'] = pd.to_datetime(Books_df['Year-Of-Publication'], errors='coerce')"
   ]
  },
  {
   "cell_type": "code",
   "execution_count": 15,
   "id": "7fac1e93",
   "metadata": {
    "execution": {
     "iopub.execute_input": "2024-07-14T05:02:48.877806Z",
     "iopub.status.busy": "2024-07-14T05:02:48.877354Z",
     "iopub.status.idle": "2024-07-14T05:02:48.891666Z",
     "shell.execute_reply": "2024-07-14T05:02:48.890371Z"
    },
    "papermill": {
     "duration": 0.032437,
     "end_time": "2024-07-14T05:02:48.894249",
     "exception": false,
     "start_time": "2024-07-14T05:02:48.861812",
     "status": "completed"
    },
    "tags": []
   },
   "outputs": [
    {
     "data": {
      "text/html": [
       "<div>\n",
       "<style scoped>\n",
       "    .dataframe tbody tr th:only-of-type {\n",
       "        vertical-align: middle;\n",
       "    }\n",
       "\n",
       "    .dataframe tbody tr th {\n",
       "        vertical-align: top;\n",
       "    }\n",
       "\n",
       "    .dataframe thead th {\n",
       "        text-align: right;\n",
       "    }\n",
       "</style>\n",
       "<table border=\"1\" class=\"dataframe\">\n",
       "  <thead>\n",
       "    <tr style=\"text-align: right;\">\n",
       "      <th></th>\n",
       "      <th>ISBN</th>\n",
       "      <th>Book-Title</th>\n",
       "      <th>Book-Author</th>\n",
       "      <th>Year-Of-Publication</th>\n",
       "      <th>Publisher</th>\n",
       "      <th>Genre</th>\n",
       "    </tr>\n",
       "  </thead>\n",
       "  <tbody>\n",
       "    <tr>\n",
       "      <th>0</th>\n",
       "      <td>0195153448</td>\n",
       "      <td>Classical Mythology</td>\n",
       "      <td>Mark P. O. Morford</td>\n",
       "      <td>2002-01-01</td>\n",
       "      <td>Oxford University Press</td>\n",
       "      <td>Unknown</td>\n",
       "    </tr>\n",
       "    <tr>\n",
       "      <th>1</th>\n",
       "      <td>0002005018</td>\n",
       "      <td>Clara Callan</td>\n",
       "      <td>Richard Bruce Wright</td>\n",
       "      <td>2001-01-01</td>\n",
       "      <td>HarperFlamingo Canada</td>\n",
       "      <td>Unknown</td>\n",
       "    </tr>\n",
       "    <tr>\n",
       "      <th>2</th>\n",
       "      <td>0060973129</td>\n",
       "      <td>Decision in Normandy</td>\n",
       "      <td>Carlo D'Este</td>\n",
       "      <td>1991-01-01</td>\n",
       "      <td>HarperPerennial</td>\n",
       "      <td>Unknown</td>\n",
       "    </tr>\n",
       "    <tr>\n",
       "      <th>3</th>\n",
       "      <td>0374157065</td>\n",
       "      <td>Flu: The Story of the Great Influenza Pandemic...</td>\n",
       "      <td>Gina Bari Kolata</td>\n",
       "      <td>1999-01-01</td>\n",
       "      <td>Farrar Straus Giroux</td>\n",
       "      <td>Unknown</td>\n",
       "    </tr>\n",
       "    <tr>\n",
       "      <th>4</th>\n",
       "      <td>0393045218</td>\n",
       "      <td>The Mummies of Urumchi</td>\n",
       "      <td>E. J. W. Barber</td>\n",
       "      <td>1999-01-01</td>\n",
       "      <td>W. W. Norton &amp;amp; Company</td>\n",
       "      <td>Unknown</td>\n",
       "    </tr>\n",
       "  </tbody>\n",
       "</table>\n",
       "</div>"
      ],
      "text/plain": [
       "         ISBN                                         Book-Title  \\\n",
       "0  0195153448                                Classical Mythology   \n",
       "1  0002005018                                       Clara Callan   \n",
       "2  0060973129                               Decision in Normandy   \n",
       "3  0374157065  Flu: The Story of the Great Influenza Pandemic...   \n",
       "4  0393045218                             The Mummies of Urumchi   \n",
       "\n",
       "            Book-Author Year-Of-Publication                   Publisher  \\\n",
       "0    Mark P. O. Morford          2002-01-01     Oxford University Press   \n",
       "1  Richard Bruce Wright          2001-01-01       HarperFlamingo Canada   \n",
       "2          Carlo D'Este          1991-01-01             HarperPerennial   \n",
       "3      Gina Bari Kolata          1999-01-01        Farrar Straus Giroux   \n",
       "4       E. J. W. Barber          1999-01-01  W. W. Norton &amp; Company   \n",
       "\n",
       "     Genre  \n",
       "0  Unknown  \n",
       "1  Unknown  \n",
       "2  Unknown  \n",
       "3  Unknown  \n",
       "4  Unknown  "
      ]
     },
     "execution_count": 15,
     "metadata": {},
     "output_type": "execute_result"
    }
   ],
   "source": [
    "Books_df.head(5)"
   ]
  },
  {
   "cell_type": "markdown",
   "id": "16c38249",
   "metadata": {
    "papermill": {
     "duration": 0.014325,
     "end_time": "2024-07-14T05:02:48.923086",
     "exception": false,
     "start_time": "2024-07-14T05:02:48.908761",
     "status": "completed"
    },
    "tags": []
   },
   "source": [
    "Analyze Popular Genres"
   ]
  },
  {
   "cell_type": "code",
   "execution_count": 16,
   "id": "8dc5dd0a",
   "metadata": {
    "execution": {
     "iopub.execute_input": "2024-07-14T05:02:48.954348Z",
     "iopub.status.busy": "2024-07-14T05:02:48.953947Z",
     "iopub.status.idle": "2024-07-14T05:02:49.030995Z",
     "shell.execute_reply": "2024-07-14T05:02:49.029584Z"
    },
    "papermill": {
     "duration": 0.095636,
     "end_time": "2024-07-14T05:02:49.033482",
     "exception": false,
     "start_time": "2024-07-14T05:02:48.937846",
     "status": "completed"
    },
    "tags": []
   },
   "outputs": [
    {
     "name": "stdout",
     "output_type": "stream",
     "text": [
      "Genre\n",
      "Unknown                                               195886\n",
      "Penguin Classics                                         564\n",
      "Dover Thrift Editions                                    374\n",
      "Zebra Regency Romance                                    277\n",
      "Signet Regency Romance                                   263\n",
      "                                                       ...  \n",
      "His Conquering Sword                                       1\n",
      "Sweetwater Gunslinger                                      1\n",
      "Dancing Gods Part 1                                        1\n",
      "Thorndike Press Large Print Science Fiction Series         1\n",
      "The Case For Taste                                         1\n",
      "Name: count, Length: 40823, dtype: int64\n"
     ]
    }
   ],
   "source": [
    "# Count the number of books in each genre\n",
    "genre_counts = Books_df['Genre'].value_counts()\n",
    "print(genre_counts)"
   ]
  },
  {
   "cell_type": "code",
   "execution_count": 17,
   "id": "fca35379",
   "metadata": {
    "execution": {
     "iopub.execute_input": "2024-07-14T05:02:49.064280Z",
     "iopub.status.busy": "2024-07-14T05:02:49.063911Z",
     "iopub.status.idle": "2024-07-14T05:02:49.188762Z",
     "shell.execute_reply": "2024-07-14T05:02:49.187685Z"
    },
    "papermill": {
     "duration": 0.143653,
     "end_time": "2024-07-14T05:02:49.191682",
     "exception": false,
     "start_time": "2024-07-14T05:02:49.048029",
     "status": "completed"
    },
    "tags": []
   },
   "outputs": [],
   "source": [
    "fiction_genres = ['Fiction', 'Science Fiction', 'Fantasy', 'Thriller']\n",
    "Books_df['Fiction'] = Books_df['Genre'].apply(lambda x: x in fiction_genres)"
   ]
  },
  {
   "cell_type": "code",
   "execution_count": 18,
   "id": "4bf5bd79",
   "metadata": {
    "execution": {
     "iopub.execute_input": "2024-07-14T05:02:49.223859Z",
     "iopub.status.busy": "2024-07-14T05:02:49.223416Z",
     "iopub.status.idle": "2024-07-14T05:02:49.260739Z",
     "shell.execute_reply": "2024-07-14T05:02:49.259376Z"
    },
    "papermill": {
     "duration": 0.056179,
     "end_time": "2024-07-14T05:02:49.263636",
     "exception": false,
     "start_time": "2024-07-14T05:02:49.207457",
     "status": "completed"
    },
    "tags": []
   },
   "outputs": [],
   "source": [
    "fiction_books = Books_df[Books_df['Fiction'] == True]\n",
    "non_fiction_books = Books_df[Books_df['Fiction'] == False]"
   ]
  },
  {
   "cell_type": "code",
   "execution_count": 19,
   "id": "eb31677c",
   "metadata": {
    "execution": {
     "iopub.execute_input": "2024-07-14T05:02:49.295122Z",
     "iopub.status.busy": "2024-07-14T05:02:49.294714Z",
     "iopub.status.idle": "2024-07-14T05:02:49.301335Z",
     "shell.execute_reply": "2024-07-14T05:02:49.300028Z"
    },
    "papermill": {
     "duration": 0.026639,
     "end_time": "2024-07-14T05:02:49.304688",
     "exception": false,
     "start_time": "2024-07-14T05:02:49.278049",
     "status": "completed"
    },
    "tags": []
   },
   "outputs": [
    {
     "name": "stdout",
     "output_type": "stream",
     "text": [
      "Fiction Books: 15\n",
      "Non-Fiction Books: 271345\n"
     ]
    }
   ],
   "source": [
    "# Count the number of fiction and non-fiction books\n",
    "fiction_count = len(fiction_books)\n",
    "non_fiction_count = len(non_fiction_books)\n",
    "\n",
    "print(\"Fiction Books:\", fiction_count)\n",
    "print(\"Non-Fiction Books:\", non_fiction_count)"
   ]
  },
  {
   "cell_type": "code",
   "execution_count": 20,
   "id": "6aad22a0",
   "metadata": {
    "execution": {
     "iopub.execute_input": "2024-07-14T05:02:49.335762Z",
     "iopub.status.busy": "2024-07-14T05:02:49.335334Z",
     "iopub.status.idle": "2024-07-14T05:02:49.403669Z",
     "shell.execute_reply": "2024-07-14T05:02:49.402275Z"
    },
    "papermill": {
     "duration": 0.087094,
     "end_time": "2024-07-14T05:02:49.406528",
     "exception": false,
     "start_time": "2024-07-14T05:02:49.319434",
     "status": "completed"
    },
    "tags": []
   },
   "outputs": [
    {
     "name": "stdout",
     "output_type": "stream",
     "text": [
      "              ISBN                                         Book-Title  \\\n",
      "6896    0889951926                          A Fine Daughter (Fiction)   \n",
      "13960   0889951853                    Restlessness: A Novel (Fiction)   \n",
      "31213   0689713703                          Caddie Woodlawn (Fiction)   \n",
      "35900   0889951322  Yellow Pages: A Catalogue of Intentions (Fiction)   \n",
      "61747   0889952183  It's So Cold on the Prairies: Wit &amp; Wisdom...   \n",
      "85875   088995092X              The Substance of Forgetting (Fiction)   \n",
      "90440   0609607944                           Cold : A Novel (Fiction)   \n",
      "154308  0689815212                          Caddie Woodlawn (Fiction)   \n",
      "169851  0889951063   Beneath the Faceless Mountain: A Novel (Fiction)   \n",
      "234717  0889952280                          The Kappa Child (Fiction)   \n",
      "260509  044041184X                         The Broken Blade (Fiction)   \n",
      "\n",
      "                    Book-Author Year-Of-Publication             Publisher  \\\n",
      "6896    Catherine Simmons Niven          1999-01-01        Red Deer Press   \n",
      "13960           Aritha Van Herk          1998-01-01        Red Deer Press   \n",
      "31213         Carol Ryrie Brink          1990-01-01               Aladdin   \n",
      "35900           Nicole Markotic          1995-01-01        Red Deer Press   \n",
      "61747                 Ted Stone          1999-01-01        Red Deer Press   \n",
      "85875         Kirstjana Gunnars          1993-01-01        Red Deer Press   \n",
      "90440              JOHN SMOLENS          2001-01-01  Shaye Areheart Books   \n",
      "154308        Carol Ryrie Brink          1997-01-01           Simon Pulse   \n",
      "169851             Roberta Rees          1994-01-01        Red Deer Press   \n",
      "234717              Hiromi Goto          2001-01-01        Red Deer Press   \n",
      "260509           William Durbin          1998-01-01        Yearling Books   \n",
      "\n",
      "          Genre  Fiction  \n",
      "6896    Fiction     True  \n",
      "13960   Fiction     True  \n",
      "31213   Fiction     True  \n",
      "35900   Fiction     True  \n",
      "61747   Fiction     True  \n",
      "85875   Fiction     True  \n",
      "90440   Fiction     True  \n",
      "154308  Fiction     True  \n",
      "169851  Fiction     True  \n",
      "234717  Fiction     True  \n",
      "260509  Fiction     True  \n"
     ]
    }
   ],
   "source": [
    "Fiction_books = Books_df[Books_df['Genre'] == 'Fiction']\n",
    "print(Fiction_books)"
   ]
  },
  {
   "cell_type": "code",
   "execution_count": 21,
   "id": "1d232c42",
   "metadata": {
    "execution": {
     "iopub.execute_input": "2024-07-14T05:02:49.438704Z",
     "iopub.status.busy": "2024-07-14T05:02:49.438210Z",
     "iopub.status.idle": "2024-07-14T05:02:49.506722Z",
     "shell.execute_reply": "2024-07-14T05:02:49.505442Z"
    },
    "papermill": {
     "duration": 0.08786,
     "end_time": "2024-07-14T05:02:49.509333",
     "exception": false,
     "start_time": "2024-07-14T05:02:49.421473",
     "status": "completed"
    },
    "tags": []
   },
   "outputs": [
    {
     "name": "stdout",
     "output_type": "stream",
     "text": [
      "              ISBN                                         Book-Title  \\\n",
      "46896   0263795128                         The Right Choice (Romance)   \n",
      "99754   0263124991                 An answer from the heart (Romance)   \n",
      "99999   0263790576                        A Stranger's Love (Romance)   \n",
      "174392  0373038151  The Husband Sweepstake : What Women Want! (Rom...   \n",
      "174406  0373038178            The Billionaire Takes A Bride (Romance)   \n",
      "174409  0373038186                     The Wedding Contract (Romance)   \n",
      "174413  037303816X                         His Pretend Wife (Romance)   \n",
      "174613  0373038089       The Baby Proposal : Ready For Baby (Romance)   \n",
      "174617  0373038070  Gino's Arranged Bride : The Italian Brothers (...   \n",
      "174620  0373038100                 The Tycoon's Dating Deal (Romance)   \n",
      "174626  0373038097  A Convenient Groom : The Wedding Planners (Rom...   \n",
      "175524  0312966113                    Memories of the Heart (Romance)   \n",
      "224225  0263790568                          A Captive Heart (Romance)   \n",
      "243653  0373038062     The Pregnant Tycoon : Ready for Baby (Romance)   \n",
      "248697  0373038003                The Takeover Bid : 9 to 5 (Romance)   \n",
      "249013  0373038054  The Best Man's Baby : The Wedding Planners (Ro...   \n",
      "\n",
      "              Book-Author Year-Of-Publication                       Publisher  \\\n",
      "46896    Catherine George          1996-01-01  Harlequin Mills &amp; Boon Ltd   \n",
      "99754     Claudia Jameson          1990-01-01                Mills &amp; Boon   \n",
      "99999        Laura Martin          1995-01-01  Harlequin Mills &amp; Boon Ltd   \n",
      "174392     Leigh Michaels          2004-01-01                       Harlequin   \n",
      "174406       Liz Fielding          2004-01-01                       Harlequin   \n",
      "174409       Nicola Marsh          2004-01-01                       Harlequin   \n",
      "174413        Lucy Gordon          2004-01-01                       Harlequin   \n",
      "174613    Rebecca Winters          2004-01-01                       Harlequin   \n",
      "174617        Lucy Gordon          2004-01-01                       Harlequin   \n",
      "174620       Nicola Marsh          2004-01-01                       Harlequin   \n",
      "174626      Darcy Maguire          2004-01-01                       Harlequin   \n",
      "175524    Marylyle Rogers          1998-01-01              St Martins Pr (Mm)   \n",
      "224225         Sally Carr          1995-01-01  Harlequin Mills &amp; Boon Ltd   \n",
      "243653  Caroline Anderson          2004-01-01                       Harlequin   \n",
      "248697     Leigh Michaels          2004-01-01                       Harlequin   \n",
      "249013      Darcy Maguire          2004-01-01                       Harlequin   \n",
      "\n",
      "          Genre  Fiction  \n",
      "46896   Romance    False  \n",
      "99754   Romance    False  \n",
      "99999   Romance    False  \n",
      "174392  Romance    False  \n",
      "174406  Romance    False  \n",
      "174409  Romance    False  \n",
      "174413  Romance    False  \n",
      "174613  Romance    False  \n",
      "174617  Romance    False  \n",
      "174620  Romance    False  \n",
      "174626  Romance    False  \n",
      "175524  Romance    False  \n",
      "224225  Romance    False  \n",
      "243653  Romance    False  \n",
      "248697  Romance    False  \n",
      "249013  Romance    False  \n"
     ]
    }
   ],
   "source": [
    "romance_books = Books_df[Books_df['Genre'] == 'Romance']\n",
    "print(romance_books)"
   ]
  },
  {
   "cell_type": "code",
   "execution_count": 22,
   "id": "a1c389d7",
   "metadata": {
    "execution": {
     "iopub.execute_input": "2024-07-14T05:02:49.542217Z",
     "iopub.status.busy": "2024-07-14T05:02:49.541812Z",
     "iopub.status.idle": "2024-07-14T05:02:49.548234Z",
     "shell.execute_reply": "2024-07-14T05:02:49.546960Z"
    },
    "papermill": {
     "duration": 0.026258,
     "end_time": "2024-07-14T05:02:49.551531",
     "exception": false,
     "start_time": "2024-07-14T05:02:49.525273",
     "status": "completed"
    },
    "tags": []
   },
   "outputs": [
    {
     "name": "stdout",
     "output_type": "stream",
     "text": [
      "Romance Books: 16\n",
      "Fiction Books: 15\n"
     ]
    }
   ],
   "source": [
    "# Count the number of fiction and non-fiction books\n",
    "romance_count = len(romance_books)\n",
    "fiction_count = len(fiction_books)\n",
    "# Print the results\n",
    "print(\"Romance Books:\", romance_count)\n",
    "print(\"Fiction Books:\", fiction_count)"
   ]
  },
  {
   "cell_type": "code",
   "execution_count": 23,
   "id": "61828a31",
   "metadata": {
    "execution": {
     "iopub.execute_input": "2024-07-14T05:02:49.583198Z",
     "iopub.status.busy": "2024-07-14T05:02:49.582797Z",
     "iopub.status.idle": "2024-07-14T05:02:49.947307Z",
     "shell.execute_reply": "2024-07-14T05:02:49.946105Z"
    },
    "papermill": {
     "duration": 0.383452,
     "end_time": "2024-07-14T05:02:49.949875",
     "exception": false,
     "start_time": "2024-07-14T05:02:49.566423",
     "status": "completed"
    },
    "tags": []
   },
   "outputs": [
    {
     "data": {
      "image/png": "[encoded data removed]",
      "text/plain": [
       "<Figure size 1000x600 with 1 Axes>"
      ]
     },
     "metadata": {},
     "output_type": "display_data"
    }
   ],
   "source": [
    "# Plot the top 10 genres\n",
    "plt.figure(figsize=(10, 6))\n",
    "genre_counts.head(10).plot(kind='bar', color='#7A288A')  # Violet color\n",
    "plt.title('Top 10 Genres')\n",
    "plt.xlabel('Genre')\n",
    "plt.ylabel('Count')\n",
    "plt.show()"
   ]
  },
  {
   "cell_type": "code",
   "execution_count": 24,
   "id": "d9e7428c",
   "metadata": {
    "execution": {
     "iopub.execute_input": "2024-07-14T05:02:49.983373Z",
     "iopub.status.busy": "2024-07-14T05:02:49.982559Z",
     "iopub.status.idle": "2024-07-14T05:02:50.151908Z",
     "shell.execute_reply": "2024-07-14T05:02:50.150509Z"
    },
    "papermill": {
     "duration": 0.189232,
     "end_time": "2024-07-14T05:02:50.154683",
     "exception": false,
     "start_time": "2024-07-14T05:02:49.965451",
     "status": "completed"
    },
    "tags": []
   },
   "outputs": [
    {
     "data": {
      "image/png": "[encoded data removed]",
      "text/plain": [
       "<Figure size 200x300 with 1 Axes>"
      ]
     },
     "metadata": {},
     "output_type": "display_data"
    }
   ],
   "source": [
    "# Plot the fiction and non-fiction counts\n",
    "plt.figure(figsize=(2, 3))\n",
    "plt.bar(['Fiction', 'Non-Fiction'], [fiction_count, non_fiction_count], \n",
    "        color=['#7A288A', '#FFC5C5'])  # Violet and pink colors\n",
    "plt.title('Fiction vs Non-Fiction Books')\n",
    "plt.xlabel('Genre')\n",
    "plt.ylabel('Count')\n",
    "plt.show()"
   ]
  },
  {
   "cell_type": "code",
   "execution_count": 25,
   "id": "abf09d70",
   "metadata": {
    "execution": {
     "iopub.execute_input": "2024-07-14T05:02:50.190773Z",
     "iopub.status.busy": "2024-07-14T05:02:50.190328Z",
     "iopub.status.idle": "2024-07-14T05:02:50.364632Z",
     "shell.execute_reply": "2024-07-14T05:02:50.362895Z"
    },
    "papermill": {
     "duration": 0.19714,
     "end_time": "2024-07-14T05:02:50.368945",
     "exception": false,
     "start_time": "2024-07-14T05:02:50.171805",
     "status": "completed"
    },
    "tags": []
   },
   "outputs": [
    {
     "data": {
      "image/png": "[encoded data removed]",
      "text/plain": [
       "<Figure size 800x600 with 1 Axes>"
      ]
     },
     "metadata": {},
     "output_type": "display_data"
    }
   ],
   "source": [
    "# Plot the fiction and non-fiction proportions\n",
    "plt.figure(figsize=(8, 6))\n",
    "plt.pie([fiction_count, non_fiction_count], labels=['Fiction', 'Non-Fiction'], \n",
    "        colors=['#7A288A', '#FFC5C5'], autopct='%1.1f%%')\n",
    "plt.title('Fiction vs Non-Fiction Books')\n",
    "plt.show()"
   ]
  },
  {
   "cell_type": "code",
   "execution_count": 26,
   "id": "50dda051",
   "metadata": {
    "execution": {
     "iopub.execute_input": "2024-07-14T05:02:50.427815Z",
     "iopub.status.busy": "2024-07-14T05:02:50.427421Z",
     "iopub.status.idle": "2024-07-14T05:02:50.668992Z",
     "shell.execute_reply": "2024-07-14T05:02:50.667806Z"
    },
    "papermill": {
     "duration": 0.267974,
     "end_time": "2024-07-14T05:02:50.671945",
     "exception": false,
     "start_time": "2024-07-14T05:02:50.403971",
     "status": "completed"
    },
    "tags": []
   },
   "outputs": [
    {
     "data": {
      "image/png": "[encoded data removed]",
      "text/plain": [
       "<Figure size 200x300 with 1 Axes>"
      ]
     },
     "metadata": {},
     "output_type": "display_data"
    }
   ],
   "source": [
    "import matplotlib.pyplot as plt\n",
    "\n",
    "# Plot the Romance and Fiction counts\n",
    "plt.figure(figsize=(2, 3))\n",
    "plt.bar(['Romance', 'Fiction'], [romance_count, fiction_count], \n",
    "        color=['#F7DC6F','#7A288A'])  # Yellow and violet colors\n",
    "plt.title('Romance vs Fiction Books')\n",
    "plt.xlabel('Genre')\n",
    "plt.ylabel('Count')\n",
    "plt.show()"
   ]
  },
  {
   "cell_type": "code",
   "execution_count": 27,
   "id": "23f830e9",
   "metadata": {
    "execution": {
     "iopub.execute_input": "2024-07-14T05:02:50.709441Z",
     "iopub.status.busy": "2024-07-14T05:02:50.709028Z",
     "iopub.status.idle": "2024-07-14T05:02:50.859240Z",
     "shell.execute_reply": "2024-07-14T05:02:50.857768Z"
    },
    "papermill": {
     "duration": 0.174106,
     "end_time": "2024-07-14T05:02:50.864274",
     "exception": false,
     "start_time": "2024-07-14T05:02:50.690168",
     "status": "completed"
    },
    "tags": []
   },
   "outputs": [
    {
     "data": {
      "image/png": "[encoded data removed]",
      "text/plain": [
       "<Figure size 800x600 with 1 Axes>"
      ]
     },
     "metadata": {},
     "output_type": "display_data"
    }
   ],
   "source": [
    "# Plot the Romance and Fiction proportions\n",
    "plt.figure(figsize=(8, 6))\n",
    "plt.pie([romance_count, fiction_count], labels=['Romance', 'Fiction'], \n",
    "        colors=['#F7DC6F', '#7A288A'], autopct='%1.1f%%')\n",
    "plt.title('Romance vs Fiction Books')\n",
    "plt.show()"
   ]
  },
  {
   "cell_type": "markdown",
   "id": "4d3da50d",
   "metadata": {
    "papermill": {
     "duration": 0.022535,
     "end_time": "2024-07-14T05:02:50.923016",
     "exception": false,
     "start_time": "2024-07-14T05:02:50.900481",
     "status": "completed"
    },
    "tags": []
   },
   "source": [
    "Analyze the download trends over time."
   ]
  },
  {
   "cell_type": "code",
   "execution_count": 28,
   "id": "f8f15214",
   "metadata": {
    "execution": {
     "iopub.execute_input": "2024-07-14T05:02:50.959330Z",
     "iopub.status.busy": "2024-07-14T05:02:50.958925Z",
     "iopub.status.idle": "2024-07-14T05:02:52.103914Z",
     "shell.execute_reply": "2024-07-14T05:02:52.102164Z"
    },
    "papermill": {
     "duration": 1.166724,
     "end_time": "2024-07-14T05:02:52.106996",
     "exception": false,
     "start_time": "2024-07-14T05:02:50.940272",
     "status": "completed"
    },
    "tags": []
   },
   "outputs": [],
   "source": [
    "# Merge the Books_df and Ratings_df datasets on ISBN\n",
    "merged_df = pd.merge(Books_df, Ratings_df, on='ISBN')"
   ]
  },
  {
   "cell_type": "code",
   "execution_count": 29,
   "id": "b774fb52",
   "metadata": {
    "execution": {
     "iopub.execute_input": "2024-07-14T05:02:52.144825Z",
     "iopub.status.busy": "2024-07-14T05:02:52.144390Z",
     "iopub.status.idle": "2024-07-14T05:02:52.162449Z",
     "shell.execute_reply": "2024-07-14T05:02:52.161019Z"
    },
    "papermill": {
     "duration": 0.040032,
     "end_time": "2024-07-14T05:02:52.165244",
     "exception": false,
     "start_time": "2024-07-14T05:02:52.125212",
     "status": "completed"
    },
    "tags": []
   },
   "outputs": [
    {
     "data": {
      "text/html": [
       "<div>\n",
       "<style scoped>\n",
       "    .dataframe tbody tr th:only-of-type {\n",
       "        vertical-align: middle;\n",
       "    }\n",
       "\n",
       "    .dataframe tbody tr th {\n",
       "        vertical-align: top;\n",
       "    }\n",
       "\n",
       "    .dataframe thead th {\n",
       "        text-align: right;\n",
       "    }\n",
       "</style>\n",
       "<table border=\"1\" class=\"dataframe\">\n",
       "  <thead>\n",
       "    <tr style=\"text-align: right;\">\n",
       "      <th></th>\n",
       "      <th>ISBN</th>\n",
       "      <th>Book-Title</th>\n",
       "      <th>Book-Author</th>\n",
       "      <th>Year-Of-Publication</th>\n",
       "      <th>Publisher</th>\n",
       "      <th>Genre</th>\n",
       "      <th>Fiction</th>\n",
       "      <th>User-ID</th>\n",
       "      <th>Book-Rating</th>\n",
       "    </tr>\n",
       "  </thead>\n",
       "  <tbody>\n",
       "    <tr>\n",
       "      <th>0</th>\n",
       "      <td>0195153448</td>\n",
       "      <td>Classical Mythology</td>\n",
       "      <td>Mark P. O. Morford</td>\n",
       "      <td>2002-01-01</td>\n",
       "      <td>Oxford University Press</td>\n",
       "      <td>Unknown</td>\n",
       "      <td>False</td>\n",
       "      <td>2</td>\n",
       "      <td>0</td>\n",
       "    </tr>\n",
       "    <tr>\n",
       "      <th>1</th>\n",
       "      <td>0002005018</td>\n",
       "      <td>Clara Callan</td>\n",
       "      <td>Richard Bruce Wright</td>\n",
       "      <td>2001-01-01</td>\n",
       "      <td>HarperFlamingo Canada</td>\n",
       "      <td>Unknown</td>\n",
       "      <td>False</td>\n",
       "      <td>8</td>\n",
       "      <td>5</td>\n",
       "    </tr>\n",
       "    <tr>\n",
       "      <th>2</th>\n",
       "      <td>0002005018</td>\n",
       "      <td>Clara Callan</td>\n",
       "      <td>Richard Bruce Wright</td>\n",
       "      <td>2001-01-01</td>\n",
       "      <td>HarperFlamingo Canada</td>\n",
       "      <td>Unknown</td>\n",
       "      <td>False</td>\n",
       "      <td>11400</td>\n",
       "      <td>0</td>\n",
       "    </tr>\n",
       "    <tr>\n",
       "      <th>3</th>\n",
       "      <td>0002005018</td>\n",
       "      <td>Clara Callan</td>\n",
       "      <td>Richard Bruce Wright</td>\n",
       "      <td>2001-01-01</td>\n",
       "      <td>HarperFlamingo Canada</td>\n",
       "      <td>Unknown</td>\n",
       "      <td>False</td>\n",
       "      <td>11676</td>\n",
       "      <td>8</td>\n",
       "    </tr>\n",
       "    <tr>\n",
       "      <th>4</th>\n",
       "      <td>0002005018</td>\n",
       "      <td>Clara Callan</td>\n",
       "      <td>Richard Bruce Wright</td>\n",
       "      <td>2001-01-01</td>\n",
       "      <td>HarperFlamingo Canada</td>\n",
       "      <td>Unknown</td>\n",
       "      <td>False</td>\n",
       "      <td>41385</td>\n",
       "      <td>0</td>\n",
       "    </tr>\n",
       "  </tbody>\n",
       "</table>\n",
       "</div>"
      ],
      "text/plain": [
       "         ISBN           Book-Title           Book-Author Year-Of-Publication  \\\n",
       "0  0195153448  Classical Mythology    Mark P. O. Morford          2002-01-01   \n",
       "1  0002005018         Clara Callan  Richard Bruce Wright          2001-01-01   \n",
       "2  0002005018         Clara Callan  Richard Bruce Wright          2001-01-01   \n",
       "3  0002005018         Clara Callan  Richard Bruce Wright          2001-01-01   \n",
       "4  0002005018         Clara Callan  Richard Bruce Wright          2001-01-01   \n",
       "\n",
       "                 Publisher    Genre  Fiction  User-ID  Book-Rating  \n",
       "0  Oxford University Press  Unknown    False        2            0  \n",
       "1    HarperFlamingo Canada  Unknown    False        8            5  \n",
       "2    HarperFlamingo Canada  Unknown    False    11400            0  \n",
       "3    HarperFlamingo Canada  Unknown    False    11676            8  \n",
       "4    HarperFlamingo Canada  Unknown    False    41385            0  "
      ]
     },
     "execution_count": 29,
     "metadata": {},
     "output_type": "execute_result"
    }
   ],
   "source": [
    "merged_df.head(5)"
   ]
  },
  {
   "cell_type": "code",
   "execution_count": 30,
   "id": "c5001fc0",
   "metadata": {
    "execution": {
     "iopub.execute_input": "2024-07-14T05:02:52.203884Z",
     "iopub.status.busy": "2024-07-14T05:02:52.203472Z",
     "iopub.status.idle": "2024-07-14T05:02:52.238411Z",
     "shell.execute_reply": "2024-07-14T05:02:52.236946Z"
    },
    "papermill": {
     "duration": 0.057728,
     "end_time": "2024-07-14T05:02:52.241206",
     "exception": false,
     "start_time": "2024-07-14T05:02:52.183478",
     "status": "completed"
    },
    "tags": []
   },
   "outputs": [
    {
     "name": "stdout",
     "output_type": "stream",
     "text": [
      "Year-Of-Publication\n",
      "1806-01-01     5.000000\n",
      "1897-01-01     0.000000\n",
      "1900-01-01     1.750000\n",
      "1901-01-01     4.571429\n",
      "1902-01-01     1.800000\n",
      "                ...    \n",
      "2026-01-01     4.800000\n",
      "2030-01-01     3.031250\n",
      "2037-01-01    10.000000\n",
      "2038-01-01     2.375000\n",
      "2050-01-01     4.857143\n",
      "Name: Book-Rating, Length: 113, dtype: float64\n"
     ]
    }
   ],
   "source": [
    "# Group the data by Year-Of-Publication and calculate the average Book-Rating\n",
    "download_trends = merged_df.groupby('Year-Of-Publication')['Book-Rating'].mean()\n",
    "print(download_trends)"
   ]
  },
  {
   "cell_type": "code",
   "execution_count": 31,
   "id": "0f9bb323",
   "metadata": {
    "execution": {
     "iopub.execute_input": "2024-07-14T05:02:52.281466Z",
     "iopub.status.busy": "2024-07-14T05:02:52.280573Z",
     "iopub.status.idle": "2024-07-14T05:02:52.725325Z",
     "shell.execute_reply": "2024-07-14T05:02:52.724212Z"
    },
    "papermill": {
     "duration": 0.468392,
     "end_time": "2024-07-14T05:02:52.728375",
     "exception": false,
     "start_time": "2024-07-14T05:02:52.259983",
     "status": "completed"
    },
    "tags": []
   },
   "outputs": [
    {
     "data": {
      "image/png": "[encoded data removed]",
      "text/plain": [
       "<Figure size 1000x600 with 1 Axes>"
      ]
     },
     "metadata": {},
     "output_type": "display_data"
    }
   ],
   "source": [
    "# Plot the download trends over time\n",
    "plt.figure(figsize=(10, 6))\n",
    "download_trends.plot(kind='line', color='orange')\n",
    "plt.title('Download Trends over Time')\n",
    "plt.xlabel('Year of Publication')\n",
    "plt.ylabel('Average Book Rating (Downloads)')\n",
    "plt.show()"
   ]
  },
  {
   "cell_type": "markdown",
   "id": "18f937e1",
   "metadata": {
    "papermill": {
     "duration": 0.019708,
     "end_time": "2024-07-14T05:02:52.828971",
     "exception": false,
     "start_time": "2024-07-14T05:02:52.809263",
     "status": "completed"
    },
    "tags": []
   },
   "source": [
    "Analyze Fiction vs. Non-Fiction Trends\n"
   ]
  },
  {
   "cell_type": "code",
   "execution_count": 32,
   "id": "4353c6db",
   "metadata": {
    "execution": {
     "iopub.execute_input": "2024-07-14T05:02:52.868599Z",
     "iopub.status.busy": "2024-07-14T05:02:52.868123Z",
     "iopub.status.idle": "2024-07-14T05:02:53.096893Z",
     "shell.execute_reply": "2024-07-14T05:02:53.095724Z"
    },
    "papermill": {
     "duration": 0.251807,
     "end_time": "2024-07-14T05:02:53.099754",
     "exception": false,
     "start_time": "2024-07-14T05:02:52.847947",
     "status": "completed"
    },
    "tags": []
   },
   "outputs": [],
   "source": [
    "# Create a new column to indicate whether a book is fiction or non-fiction\n",
    "Books_df['Fiction'] = Books_df['Genre'].apply(lambda x: 1 if x in ['Fiction', 'Novel', 'Romance'] else 0)"
   ]
  },
  {
   "cell_type": "code",
   "execution_count": 33,
   "id": "0eb1e89e",
   "metadata": {
    "execution": {
     "iopub.execute_input": "2024-07-14T05:02:53.139745Z",
     "iopub.status.busy": "2024-07-14T05:02:53.139326Z",
     "iopub.status.idle": "2024-07-14T05:02:53.198978Z",
     "shell.execute_reply": "2024-07-14T05:02:53.197601Z"
    },
    "papermill": {
     "duration": 0.082976,
     "end_time": "2024-07-14T05:02:53.201752",
     "exception": false,
     "start_time": "2024-07-14T05:02:53.118776",
     "status": "completed"
    },
    "tags": []
   },
   "outputs": [
    {
     "name": "stdout",
     "output_type": "stream",
     "text": [
      "Year-Of-Publication  Fiction\n",
      "1806-01-01           False       5.000000\n",
      "1897-01-01           False       0.000000\n",
      "1900-01-01           False       1.750000\n",
      "1901-01-01           False       4.571429\n",
      "1902-01-01           False       1.800000\n",
      "                                  ...    \n",
      "2026-01-01           False       4.800000\n",
      "2030-01-01           False       3.031250\n",
      "2037-01-01           False      10.000000\n",
      "2038-01-01           False       2.375000\n",
      "2050-01-01           False       4.857143\n",
      "Name: Book-Rating, Length: 123, dtype: float64\n"
     ]
    }
   ],
   "source": [
    "# Group the data by Year-Of-Publication and Fiction, and calculate the average Book-Rating\n",
    "fiction_trends = merged_df.groupby(['Year-Of-Publication', 'Fiction'])['Book-Rating'].mean()\n",
    "print(fiction_trends)"
   ]
  },
  {
   "cell_type": "code",
   "execution_count": 34,
   "id": "cc2ba5e2",
   "metadata": {
    "execution": {
     "iopub.execute_input": "2024-07-14T05:02:53.243851Z",
     "iopub.status.busy": "2024-07-14T05:02:53.243393Z",
     "iopub.status.idle": "2024-07-14T05:02:53.662234Z",
     "shell.execute_reply": "2024-07-14T05:02:53.660558Z"
    },
    "papermill": {
     "duration": 0.444028,
     "end_time": "2024-07-14T05:02:53.665422",
     "exception": false,
     "start_time": "2024-07-14T05:02:53.221394",
     "status": "completed"
    },
    "tags": []
   },
   "outputs": [
    {
     "data": {
      "text/plain": [
       "<Figure size 1000x600 with 0 Axes>"
      ]
     },
     "metadata": {},
     "output_type": "display_data"
    },
    {
     "data": {
      "image/png": "[encoded data removed]",
      "text/plain": [
       "<Figure size 640x480 with 1 Axes>"
      ]
     },
     "metadata": {},
     "output_type": "display_data"
    }
   ],
   "source": [
    "# Plot the fiction vs. non-fiction trends over time\n",
    "import matplotlib.pyplot as plt\n",
    "plt.figure(figsize=(10, 6))\n",
    "fiction_trends.unstack().plot(kind='line')\n",
    "plt.title('Fiction vs. Non-Fiction Trends over Time')\n",
    "plt.xlabel('Year of Publication')\n",
    "plt.ylabel('Average Book Rating (Downloads)')\n",
    "plt.legend(title='Fiction')\n",
    "plt.show()"
   ]
  },
  {
   "cell_type": "code",
   "execution_count": 35,
   "id": "87a50ac9",
   "metadata": {
    "execution": {
     "iopub.execute_input": "2024-07-14T05:02:53.708127Z",
     "iopub.status.busy": "2024-07-14T05:02:53.707697Z",
     "iopub.status.idle": "2024-07-14T05:02:53.715212Z",
     "shell.execute_reply": "2024-07-14T05:02:53.714063Z"
    },
    "papermill": {
     "duration": 0.03276,
     "end_time": "2024-07-14T05:02:53.718247",
     "exception": false,
     "start_time": "2024-07-14T05:02:53.685487",
     "status": "completed"
    },
    "tags": []
   },
   "outputs": [
    {
     "name": "stdout",
     "output_type": "stream",
     "text": [
      "0          0\n",
      "1          5\n",
      "2          0\n",
      "3          8\n",
      "4          0\n",
      "          ..\n",
      "1031131    7\n",
      "1031132    4\n",
      "1031133    0\n",
      "1031134    0\n",
      "1031135    0\n",
      "Name: Book-Rating, Length: 1031136, dtype: int64\n"
     ]
    }
   ],
   "source": [
    "# Extract the Book-Rating column from the merged dataset\n",
    "ratings = merged_df[\"Book-Rating\"]\n",
    "print(ratings)"
   ]
  },
  {
   "cell_type": "code",
   "execution_count": 36,
   "id": "8809df7c",
   "metadata": {
    "execution": {
     "iopub.execute_input": "2024-07-14T05:02:53.760435Z",
     "iopub.status.busy": "2024-07-14T05:02:53.760047Z",
     "iopub.status.idle": "2024-07-14T05:02:54.089878Z",
     "shell.execute_reply": "2024-07-14T05:02:54.088800Z"
    },
    "papermill": {
     "duration": 0.354065,
     "end_time": "2024-07-14T05:02:54.092363",
     "exception": false,
     "start_time": "2024-07-14T05:02:53.738298",
     "status": "completed"
    },
    "tags": []
   },
   "outputs": [
    {
     "data": {
      "image/png": "[encoded data removed]",
      "text/plain": [
       "<Figure size 640x480 with 1 Axes>"
      ]
     },
     "metadata": {},
     "output_type": "display_data"
    }
   ],
   "source": [
    "# Histogram\n",
    "plt.hist(ratings, bins=11, range=(-0.5, 10.5), edgecolor=\"black\", color=\"brown\")\n",
    "\n",
    "# Add labels and title to the plot\n",
    "plt.xlabel(\"Book Rating\")\n",
    "plt.ylabel(\"Frequency\")\n",
    "plt.title(\"Histogram of Book Ratings\")\n",
    "\n",
    "# Display the plot\n",
    "plt.show()"
   ]
  },
  {
   "cell_type": "code",
   "execution_count": null,
   "id": "6845018d",
   "metadata": {
    "papermill": {
     "duration": 0.020774,
     "end_time": "2024-07-14T05:02:54.133659",
     "exception": false,
     "start_time": "2024-07-14T05:02:54.112885",
     "status": "completed"
    },
    "tags": []
   },
   "outputs": [],
   "source": []
  }
 ],
 "metadata": {
  "kaggle": {
   "accelerator": "none",
   "dataSources": [
    {
     "datasetId": 912577,
     "sourceId": 1546766,
     "sourceType": "datasetVersion"
    }
   ],
   "dockerImageVersionId": 30732,
   "isGpuEnabled": false,
   "isInternetEnabled": false,
   "language": "python",
   "sourceType": "notebook"
  },
  "kernelspec": {
   "display_name": "Python 3",
   "language": "python",
   "name": "python3"
  },
  "language_info": {
   "codemirror_mode": {
    "name": "ipython",
    "version": 3
   },
   "file_extension": ".py",
   "mimetype": "text/x-python",
   "name": "python",
   "nbconvert_exporter": "python",
   "pygments_lexer": "ipython3",
   "version": "3.10.13"
  },
  "papermill": {
   "default_parameters": {},
   "duration": 16.884319,
   "end_time": "2024-07-14T05:02:54.876390",
   "environment_variables": {},
   "exception": null,
   "input_path": "__notebook__.ipynb",
   "output_path": "__notebook__.ipynb",
   "parameters": {},
   "start_time": "2024-07-14T05:02:37.992071",
   "version": "2.5.0"
  }
 },
 "nbformat": 4,
 "nbformat_minor": 5
}
